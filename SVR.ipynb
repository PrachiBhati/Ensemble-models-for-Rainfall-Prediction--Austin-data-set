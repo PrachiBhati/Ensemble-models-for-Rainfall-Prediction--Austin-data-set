{
 "cells": [
  {
   "cell_type": "markdown",
   "metadata": {},
   "source": [
    "# Support Vector Regressor"
   ]
  },
  {
   "cell_type": "code",
   "execution_count": 177,
   "metadata": {},
   "outputs": [],
   "source": [
    "import numpy as np\n",
    "import matplotlib.pyplot as plt\n",
    "import pandas as pd\n",
    "from sklearn.model_selection import train_test_split\n",
    "from sklearn.preprocessing import StandardScaler\n",
    "from sklearn.svm import SVR\n",
    "from sklearn.metrics import r2_score, mean_absolute_error,mean_squared_error\n",
    "import matplotlib.pyplot as plt"
   ]
  },
  {
   "cell_type": "code",
   "execution_count": 178,
   "metadata": {},
   "outputs": [],
   "source": [
    "data = pd.read_csv('austin_final1.csv')"
   ]
  },
  {
   "cell_type": "code",
   "execution_count": 179,
   "metadata": {},
   "outputs": [
    {
     "name": "stdout",
     "output_type": "stream",
     "text": [
      "<class 'pandas.core.frame.DataFrame'>\n",
      "RangeIndex: 1319 entries, 0 to 1318\n",
      "Data columns (total 19 columns):\n",
      " #   Column                     Non-Null Count  Dtype  \n",
      "---  ------                     --------------  -----  \n",
      " 0   Unnamed: 0                 1319 non-null   int64  \n",
      " 1   Unnamed: 0.1               1319 non-null   int64  \n",
      " 2   TempHighF                  1319 non-null   int64  \n",
      " 3   TempAvgF                   1319 non-null   int64  \n",
      " 4   TempLowF                   1319 non-null   int64  \n",
      " 5   DewPointHighF              1319 non-null   float64\n",
      " 6   DewPointAvgF               1319 non-null   float64\n",
      " 7   DewPointLowF               1319 non-null   float64\n",
      " 8   HumidityHighPercent        1319 non-null   float64\n",
      " 9   HumidityAvgPercent         1319 non-null   float64\n",
      " 10  HumidityLowPercent         1319 non-null   float64\n",
      " 11  SeaLevelPressureAvgInches  1319 non-null   float64\n",
      " 12  VisibilityHighMiles        1319 non-null   float64\n",
      " 13  VisibilityAvgMiles         1319 non-null   float64\n",
      " 14  VisibilityLowMiles         1319 non-null   float64\n",
      " 15  WindHighMPH                1319 non-null   float64\n",
      " 16  WindAvgMPH                 1319 non-null   float64\n",
      " 17  WindGustMPH                1319 non-null   float64\n",
      " 18  PrecipitationSumInches     1319 non-null   float64\n",
      "dtypes: float64(14), int64(5)\n",
      "memory usage: 195.9 KB\n"
     ]
    }
   ],
   "source": [
    "data.info()"
   ]
  },
  {
   "cell_type": "code",
   "execution_count": 180,
   "metadata": {},
   "outputs": [],
   "source": [
    "data['TempHighF'] = data['TempHighF'].astype(float)"
   ]
  },
  {
   "cell_type": "code",
   "execution_count": 181,
   "metadata": {},
   "outputs": [],
   "source": [
    "x=data.drop(['PrecipitationSumInches'],axis=1).values\n",
    "y=data['PrecipitationSumInches'].values"
   ]
  },
  {
   "cell_type": "code",
   "execution_count": 182,
   "metadata": {},
   "outputs": [],
   "source": [
    "y = y.reshape(len(y),-1)"
   ]
  },
  {
   "cell_type": "code",
   "execution_count": 183,
   "metadata": {},
   "outputs": [],
   "source": [
    "x_train,x_test,y_train,y_test= train_test_split(x,y,test_size=0.3,random_state=0)"
   ]
  },
  {
   "cell_type": "code",
   "execution_count": 184,
   "metadata": {},
   "outputs": [],
   "source": [
    "sc_X = StandardScaler()\n",
    "sc_y = StandardScaler()\n",
    "x = sc_X.fit_transform(x_train,x_test)\n",
    "y = sc_y.fit_transform(y_train,y_test)"
   ]
  },
  {
   "cell_type": "code",
   "execution_count": 185,
   "metadata": {},
   "outputs": [
    {
     "data": {
      "text/plain": [
       "SVR()"
      ]
     },
     "execution_count": 185,
     "metadata": {},
     "output_type": "execute_result"
    }
   ],
   "source": [
    "from sklearn.svm import SVR\n",
    "regressor = SVR(kernel = 'rbf')\n",
    "regressor.fit(x_train, y_train.ravel())"
   ]
  },
  {
   "cell_type": "code",
   "execution_count": 186,
   "metadata": {},
   "outputs": [
    {
     "name": "stdout",
     "output_type": "stream",
     "text": [
      "[0.   0.31 0.   0.   0.   0.49 0.15 0.   0.   0.   0.09 0.   0.   0.27\n",
      " 0.   0.   0.01 0.01 0.   0.   0.   0.   0.02 0.   0.   0.   0.   0.02\n",
      " 1.07 2.6  0.   0.   0.1  0.   0.   0.01 0.   0.   0.   0.35 3.84 0.\n",
      " 0.   0.08 0.   0.   0.3  1.79 0.   0.43 0.   0.   0.   0.   0.   0.1\n",
      " 0.   0.   0.   0.   0.   0.   0.   0.   0.   0.   0.   0.05 0.   0.\n",
      " 0.04 0.   0.   0.   0.   0.   0.01 0.   0.   0.   0.   0.   0.   0.\n",
      " 0.   0.   2.25 0.   0.16 0.   0.   0.   0.   0.   0.   0.   0.   0.\n",
      " 0.   0.   0.   0.59 0.   0.   0.   0.1  0.   0.   0.   0.   0.73 0.\n",
      " 0.   0.   0.   0.16 0.   0.   0.   0.   1.07 0.   0.   0.02 0.47 0.\n",
      " 0.   0.   0.   0.26 0.   0.02 0.   0.   0.   0.   0.36 0.   2.45 0.\n",
      " 0.   0.   0.09 0.   0.71 0.3  0.01 0.   0.   0.   0.   0.04 0.   0.\n",
      " 0.   0.02 0.   0.   0.   0.   0.01 0.   0.   0.   0.02 0.   0.07 0.\n",
      " 0.   0.   0.   0.   0.   0.   0.   0.   0.   0.   0.   0.   0.   1.56\n",
      " 0.   0.06 0.   0.   0.   0.   0.   0.   0.   0.27 0.   0.   0.   0.\n",
      " 0.05 0.   0.   0.   0.   0.   0.03 0.   0.   0.   0.   0.   0.   0.05\n",
      " 0.   0.4  0.   0.08 0.07 0.   0.   0.   0.   0.   0.49 0.53 0.   0.\n",
      " 0.07 0.   0.   0.   0.   0.09 0.   0.   0.02 0.   0.04 0.   0.   0.15\n",
      " 0.   0.   0.   0.   0.   0.   0.92 0.   0.   0.05 0.   0.   0.54 0.01\n",
      " 0.01 0.2  0.   0.   0.   1.34 1.33 0.   0.07 0.   0.   0.   0.17 0.\n",
      " 0.   0.   0.   0.66 0.   0.   0.   0.01 0.   0.   0.   0.   0.   2.35\n",
      " 5.2  0.   0.04 0.02 0.   0.   0.   0.52 0.   0.01 0.   0.   0.   0.\n",
      " 0.   0.   0.   0.02 0.   0.   0.   1.12 0.   0.   0.   0.   0.   0.\n",
      " 0.   0.41 0.   0.   0.   0.   1.39 0.19 0.   1.51 0.   1.07 0.   0.\n",
      " 0.   0.01 0.   0.01 0.   0.   0.51 0.   0.   0.08 0.   0.01 0.   0.\n",
      " 0.   0.   0.   0.   0.1  0.22 0.   0.   0.   0.   0.   0.   0.77 0.03\n",
      " 0.29 0.   0.   0.1  0.   0.05 0.   0.   0.   0.07 0.57 0.   0.   0.\n",
      " 0.   3.66 0.   0.   0.   0.   0.76 0.02 0.   0.   0.45 0.   0.   0.\n",
      " 0.   0.   0.   0.   2.17 0.13 0.   0.   0.   0.   0.   0.   0.   0.\n",
      " 0.   0.01 0.16 0.  ]\n"
     ]
    }
   ],
   "source": [
    "y_test = y_test.flatten()\n",
    "print(y_test)"
   ]
  },
  {
   "cell_type": "code",
   "execution_count": 187,
   "metadata": {},
   "outputs": [
    {
     "name": "stdout",
     "output_type": "stream",
     "text": [
      "[0.06632398 0.10885679 0.06201138 0.09015757 0.08648396 0.10872963\n",
      " 0.09315664 0.1073681  0.07300742 0.04767444 0.09519006 0.08793252\n",
      " 0.08059325 0.10782797 0.08860124 0.09422867 0.1380018  0.07940574\n",
      " 0.05895371 0.06966727 0.11174353 0.08864347 0.1298389  0.07275234\n",
      " 0.06875981 0.08558111 0.06669534 0.08250942 0.12508988 0.12533188\n",
      " 0.07862267 0.08358649 0.10102457 0.08518133 0.07152929 0.12335048\n",
      " 0.07747344 0.09084958 0.07015672 0.10529118 0.1138411  0.05540792\n",
      " 0.08016416 0.11487785 0.08022302 0.09024453 0.10432725 0.13004011\n",
      " 0.09885911 0.12006528 0.09764045 0.06617164 0.09227015 0.08144641\n",
      " 0.09748804 0.11199899 0.08160989 0.07933409 0.05142019 0.09069716\n",
      " 0.09380108 0.08883488 0.05678036 0.09942641 0.09665566 0.08812282\n",
      " 0.09249815 0.0605084  0.06606597 0.10047707 0.10523499 0.05946377\n",
      " 0.08329371 0.08733874 0.10753078 0.07374272 0.0948166  0.09481348\n",
      " 0.08476266 0.04631974 0.08456849 0.0807069  0.08135206 0.08756088\n",
      " 0.06676329 0.09792271 0.12459367 0.06308909 0.09905339 0.07267667\n",
      " 0.12693776 0.08115914 0.08936728 0.09005493 0.05207689 0.07678497\n",
      " 0.08434274 0.0742174  0.08280933 0.09720999 0.08093441 0.11236117\n",
      " 0.08659721 0.09721844 0.09248278 0.10121124 0.09129053 0.05360701\n",
      " 0.03635829 0.07660839 0.08146726 0.09935411 0.09273037 0.10176055\n",
      " 0.07928497 0.12491293 0.04985004 0.09889731 0.0840018  0.10391454\n",
      " 0.12253801 0.095462   0.08289408 0.09812991 0.10030661 0.0886881\n",
      " 0.09449441 0.07789972 0.08218248 0.11822122 0.09038219 0.09127888\n",
      " 0.08475629 0.04486657 0.10581252 0.09250523 0.1218262  0.0708567\n",
      " 0.11541623 0.07287139 0.09356214 0.09662267 0.11616138 0.09648549\n",
      " 0.1027354  0.12994331 0.10431855 0.08938988 0.09086694 0.08777015\n",
      " 0.09401531 0.09986295 0.08167681 0.08785712 0.07953132 0.1044212\n",
      " 0.09899088 0.10153862 0.09417055 0.08893114 0.11326124 0.09044884\n",
      " 0.09714316 0.077997   0.11646446 0.08900335 0.11760342 0.09438784\n",
      " 0.03248906 0.07005424 0.08635101 0.0904211  0.08333444 0.09922503\n",
      " 0.05408061 0.05443486 0.06990141 0.09056924 0.06998561 0.09730394\n",
      " 0.07150434 0.11313103 0.08915715 0.10616612 0.09923439 0.08321303\n",
      " 0.06649959 0.08312604 0.08035753 0.08615888 0.0741197  0.11017706\n",
      " 0.09922074 0.07286069 0.05798256 0.10507109 0.09556328 0.08999951\n",
      " 0.08395753 0.08880202 0.08898055 0.09803736 0.12408116 0.11788855\n",
      " 0.08745866 0.09297146 0.06371784 0.09719846 0.0982593  0.09513608\n",
      " 0.08805106 0.09705431 0.10277168 0.13262563 0.09721944 0.08517889\n",
      " 0.09450951 0.09591813 0.05431255 0.08356341 0.13199635 0.11398442\n",
      " 0.0754703  0.08486977 0.09842841 0.08596531 0.0603381  0.11229776\n",
      " 0.0860536  0.09648725 0.06180027 0.04538527 0.10999984 0.10760326\n",
      " 0.11790152 0.07457642 0.10145795 0.13702716 0.06297092 0.08143349\n",
      " 0.0675609  0.05930543 0.05748595 0.08388228 0.10528458 0.10358232\n",
      " 0.08461989 0.09107857 0.05786165 0.07555221 0.07552026 0.09732964\n",
      " 0.0961261  0.11690274 0.08724004 0.06519665 0.09432029 0.1242076\n",
      " 0.11733649 0.1025182  0.09781626 0.09041245 0.08401351 0.07917339\n",
      " 0.10136269 0.09203855 0.07917688 0.08921916 0.09840205 0.0968384\n",
      " 0.08500728 0.09156058 0.07399297 0.07981853 0.06186457 0.09568136\n",
      " 0.11768388 0.07671399 0.05487746 0.14028325 0.12773358 0.07891691\n",
      " 0.09673459 0.10346005 0.08496366 0.0259272  0.09168095 0.11149788\n",
      " 0.06569978 0.10977842 0.07888963 0.0962004  0.07721188 0.06279208\n",
      " 0.10334137 0.08710091 0.08098895 0.08600175 0.0996453  0.07833187\n",
      " 0.09061892 0.11186891 0.09388106 0.09005264 0.0825032  0.08552705\n",
      " 0.08066825 0.12164702 0.10542271 0.11124005 0.07450955 0.08819008\n",
      " 0.08518303 0.06969501 0.10115498 0.11203586 0.04504663 0.12156281\n",
      " 0.10826591 0.09989576 0.09933527 0.11983385 0.07531722 0.1205629\n",
      " 0.08766925 0.09718009 0.07147783 0.09865869 0.12721619 0.06103437\n",
      " 0.07998167 0.10482612 0.09823037 0.10489588 0.09734113 0.10139588\n",
      " 0.07258723 0.09838683 0.09749691 0.10239102 0.0969913  0.11080427\n",
      " 0.07527487 0.11398725 0.10708748 0.04941792 0.07604353 0.03609308\n",
      " 0.12492032 0.13124054 0.12379398 0.07873104 0.09721936 0.11434621\n",
      " 0.09349957 0.09840921 0.10565396 0.06569956 0.08384221 0.11096649\n",
      " 0.12852631 0.09246021 0.08208708 0.07273425 0.05106603 0.11802715\n",
      " 0.08768287 0.06699273 0.08926703 0.0536375  0.11764327 0.10517361\n",
      " 0.08082989 0.06596235 0.09223662 0.05261151 0.1079192  0.04472301\n",
      " 0.05987697 0.09936779 0.07870261 0.07680356 0.12026411 0.09726897\n",
      " 0.06949718 0.09841224 0.06678855 0.10494942 0.09603274 0.1034656\n",
      " 0.06688128 0.0983287  0.08217219 0.09811063 0.08862891 0.09957811]\n"
     ]
    }
   ],
   "source": [
    "y_predict=regressor.predict(x_test)\n",
    "print(y_predict)"
   ]
  },
  {
   "cell_type": "code",
   "execution_count": 188,
   "metadata": {},
   "outputs": [
    {
     "name": "stdout",
     "output_type": "stream",
     "text": [
      "Accuracy of the model = 0.03754410612159176\n",
      "Mean absolute error = 0.19\n",
      "Mean squared error = 0.25\n",
      "Median absolute error = 0.09\n",
      "Explain variance score = 0.03\n",
      "R2 score = 0.02\n"
     ]
    }
   ],
   "source": [
    "import scipy.stats as st\n",
    "import sklearn.metrics as sm\n",
    "print(\"Accuracy of the model =\",regressor.score(x_train, y_train))\n",
    "print(\"Mean absolute error =\", round(sm.mean_absolute_error(y_test, y_predict),2)) \n",
    "print(\"Mean squared error =\", round(sm.mean_squared_error(y_test, y_predict), 2)) \n",
    "print(\"Median absolute error =\", round(sm.median_absolute_error(y_test, y_predict), 2)) \n",
    "print(\"Explain variance score =\", round(sm.explained_variance_score(y_test, y_predict), 2)) \n",
    "print(\"R2 score =\", round(sm.r2_score(y_test, y_predict), 2))"
   ]
  },
  {
   "cell_type": "code",
   "execution_count": 189,
   "metadata": {},
   "outputs": [
    {
     "data": {
      "text/plain": [
       "Text(0.5, 1.0, 'Actual vs predicated')"
      ]
     },
     "execution_count": 189,
     "metadata": {},
     "output_type": "execute_result"
    },
    {
     "data": {
      "image/png": "[encoded data removed]",
      "text/plain": [
       "<Figure size 1080x720 with 1 Axes>"
      ]
     },
     "metadata": {
      "needs_background": "dark"
     },
     "output_type": "display_data"
    }
   ],
   "source": [
    "import matplotlib.pyplot as plt\n",
    "%matplotlib inline\n",
    "plt.figure(figsize=(15,10)) \n",
    "plt.scatter(sc_y.inverse_transform(y_test),sc_y.inverse_transform(y_predict))\n",
    "plt.plot(y_test,y_predict,'ro')#actual data\n",
    "plt.xlabel('Actual')\n",
    "plt.ylabel('Predicted')\n",
    "plt.title('Actual vs predicated')"
   ]
  },
  {
   "cell_type": "code",
   "execution_count": 191,
   "metadata": {},
   "outputs": [
    {
     "data": {
      "text/html": [
       "<div>\n",
       "<style scoped>\n",
       "    .dataframe tbody tr th:only-of-type {\n",
       "        vertical-align: middle;\n",
       "    }\n",
       "\n",
       "    .dataframe tbody tr th {\n",
       "        vertical-align: top;\n",
       "    }\n",
       "\n",
       "    .dataframe thead th {\n",
       "        text-align: right;\n",
       "    }\n",
       "</style>\n",
       "<table border=\"1\" class=\"dataframe\">\n",
       "  <thead>\n",
       "    <tr style=\"text-align: right;\">\n",
       "      <th></th>\n",
       "      <th>Actual</th>\n",
       "      <th>Predicted</th>\n",
       "    </tr>\n",
       "  </thead>\n",
       "  <tbody>\n",
       "    <tr>\n",
       "      <th>0</th>\n",
       "      <td>0.00</td>\n",
       "      <td>0.066324</td>\n",
       "    </tr>\n",
       "    <tr>\n",
       "      <th>1</th>\n",
       "      <td>0.31</td>\n",
       "      <td>0.108857</td>\n",
       "    </tr>\n",
       "    <tr>\n",
       "      <th>2</th>\n",
       "      <td>0.00</td>\n",
       "      <td>0.062011</td>\n",
       "    </tr>\n",
       "    <tr>\n",
       "      <th>3</th>\n",
       "      <td>0.00</td>\n",
       "      <td>0.090158</td>\n",
       "    </tr>\n",
       "    <tr>\n",
       "      <th>4</th>\n",
       "      <td>0.00</td>\n",
       "      <td>0.086484</td>\n",
       "    </tr>\n",
       "  </tbody>\n",
       "</table>\n",
       "</div>"
      ],
      "text/plain": [
       "   Actual  Predicted\n",
       "0    0.00   0.066324\n",
       "1    0.31   0.108857\n",
       "2    0.00   0.062011\n",
       "3    0.00   0.090158\n",
       "4    0.00   0.086484"
      ]
     },
     "execution_count": 191,
     "metadata": {},
     "output_type": "execute_result"
    }
   ],
   "source": [
    "data = pd.DataFrame({'Actual': y_test, 'Predicted': y_predict})\n",
    "\n",
    "data.head()"
   ]
  },
  {
   "cell_type": "code",
   "execution_count": null,
   "metadata": {},
   "outputs": [],
   "source": []
  }
 ],
 "metadata": {
  "kernelspec": {
   "display_name": "Python 3",
   "language": "python",
   "name": "python3"
  },
  "language_info": {
   "codemirror_mode": {
    "name": "ipython",
    "version": 3
   },
   "file_extension": ".py",
   "mimetype": "text/x-python",
   "name": "python",
   "nbconvert_exporter": "python",
   "pygments_lexer": "ipython3",
   "version": "3.8.5"
  }
 },
 "nbformat": 4,
 "nbformat_minor": 4
}
