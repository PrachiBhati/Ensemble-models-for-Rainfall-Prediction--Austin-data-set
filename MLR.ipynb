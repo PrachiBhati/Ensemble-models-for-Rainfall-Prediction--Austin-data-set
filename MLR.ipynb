{
 "cells": [
  {
   "cell_type": "markdown",
   "metadata": {},
   "source": [
    "# Multi Linear Regressor"
   ]
  },
  {
   "cell_type": "code",
   "execution_count": 159,
   "metadata": {},
   "outputs": [],
   "source": [
    "import numpy as np\n",
    "import matplotlib.pyplot as plt\n",
    "import pandas as pd"
   ]
  },
  {
   "cell_type": "code",
   "execution_count": 160,
   "metadata": {},
   "outputs": [],
   "source": [
    "data = pd.read_csv('austin_final1.csv')"
   ]
  },
  {
   "cell_type": "code",
   "execution_count": 161,
   "metadata": {},
   "outputs": [
    {
     "name": "stdout",
     "output_type": "stream",
     "text": [
      "<class 'pandas.core.frame.DataFrame'>\n",
      "RangeIndex: 1319 entries, 0 to 1318\n",
      "Data columns (total 19 columns):\n",
      " #   Column                     Non-Null Count  Dtype  \n",
      "---  ------                     --------------  -----  \n",
      " 0   Unnamed: 0                 1319 non-null   int64  \n",
      " 1   Unnamed: 0.1               1319 non-null   int64  \n",
      " 2   TempHighF                  1319 non-null   int64  \n",
      " 3   TempAvgF                   1319 non-null   int64  \n",
      " 4   TempLowF                   1319 non-null   int64  \n",
      " 5   DewPointHighF              1319 non-null   float64\n",
      " 6   DewPointAvgF               1319 non-null   float64\n",
      " 7   DewPointLowF               1319 non-null   float64\n",
      " 8   HumidityHighPercent        1319 non-null   float64\n",
      " 9   HumidityAvgPercent         1319 non-null   float64\n",
      " 10  HumidityLowPercent         1319 non-null   float64\n",
      " 11  SeaLevelPressureAvgInches  1319 non-null   float64\n",
      " 12  VisibilityHighMiles        1319 non-null   float64\n",
      " 13  VisibilityAvgMiles         1319 non-null   float64\n",
      " 14  VisibilityLowMiles         1319 non-null   float64\n",
      " 15  WindHighMPH                1319 non-null   float64\n",
      " 16  WindAvgMPH                 1319 non-null   float64\n",
      " 17  WindGustMPH                1319 non-null   float64\n",
      " 18  PrecipitationSumInches     1319 non-null   float64\n",
      "dtypes: float64(14), int64(5)\n",
      "memory usage: 195.9 KB\n"
     ]
    }
   ],
   "source": [
    "data.info()"
   ]
  },
  {
   "cell_type": "code",
   "execution_count": 162,
   "metadata": {},
   "outputs": [],
   "source": [
    "data['TempHighF'] = data['TempHighF'].astype(float)"
   ]
  },
  {
   "cell_type": "code",
   "execution_count": 163,
   "metadata": {},
   "outputs": [],
   "source": [
    "x = data.drop('PrecipitationSumInches' , axis = 1).values\n",
    "y = data['PrecipitationSumInches'].values"
   ]
  },
  {
   "cell_type": "code",
   "execution_count": 164,
   "metadata": {},
   "outputs": [],
   "source": [
    "#y = y.reshape(len(y),1)"
   ]
  },
  {
   "cell_type": "code",
   "execution_count": 165,
   "metadata": {},
   "outputs": [],
   "source": [
    "from sklearn.model_selection import train_test_split\n",
    "X_train , X_test , Y_train , Y_test = train_test_split(x,y, test_size = 0.3 , random_state = 0)"
   ]
  },
  {
   "cell_type": "code",
   "execution_count": 166,
   "metadata": {},
   "outputs": [
    {
     "data": {
      "text/plain": [
       "LinearRegression()"
      ]
     },
     "execution_count": 166,
     "metadata": {},
     "output_type": "execute_result"
    }
   ],
   "source": [
    "from sklearn.linear_model import LinearRegression\n",
    "lnr = LinearRegression()\n",
    "lnr.fit(X_train,Y_train)"
   ]
  },
  {
   "cell_type": "code",
   "execution_count": 167,
   "metadata": {},
   "outputs": [
    {
     "name": "stdout",
     "output_type": "stream",
     "text": [
      "[-3.36011645e-02  5.63684827e-01 -1.21932051e-01 -9.91651286e-02\n",
      " -1.10125725e-02  4.56316590e-01  3.42803127e-01  2.22666070e-01\n",
      "  6.67907730e-02  3.34263797e-01  7.41417615e-03  7.33512299e-03\n",
      " -1.29625154e-01  4.58092025e-01 -2.97388805e-02  9.03849298e-02\n",
      "  4.66126755e-01 -1.01604578e-01 -1.46145479e-01 -8.89925366e-02\n",
      "  1.08731402e-01  1.30699054e-01  7.00880517e-01 -1.12181129e-01\n",
      "  5.05272262e-02 -3.87627537e-02 -1.38293493e-01  3.07848724e-01\n",
      "  4.39409356e-01  8.58753977e-01 -5.82055747e-02 -1.43163340e-01\n",
      "  3.63805955e-01 -2.17817553e-01 -1.72451860e-02  3.07770473e-01\n",
      " -8.94890678e-02  7.68429777e-02 -1.52846794e-01  3.21753708e-01\n",
      "  6.45003690e-01 -3.90659140e-02 -7.67730163e-02  3.76337883e-01\n",
      " -1.07723064e-01 -6.45111403e-02  1.41360094e-01  5.39269726e-01\n",
      "  6.57808023e-02  5.52872931e-01  4.06849121e-02 -6.61708567e-02\n",
      "  1.02970232e-01 -2.07867312e-02  5.26707282e-01  4.16638855e-01\n",
      " -6.95185439e-02 -3.07169647e-02  6.18976909e-02 -8.26271229e-02\n",
      " -5.51222554e-02  8.06066256e-02  4.70178026e-02  9.33572831e-02\n",
      "  2.40870472e-02  2.38730452e-02  1.73108865e-01  1.12678626e-01\n",
      " -1.25099918e-01  1.42035431e-01  2.60235435e-01 -1.51761541e-01\n",
      " -5.16703307e-02 -8.58046849e-04  1.98562764e-01 -1.79226158e-01\n",
      "  8.34012855e-02  6.22380088e-02  5.66416383e-02  6.32145201e-03\n",
      "  6.06560114e-02 -9.22274409e-02  1.41073270e-02  6.47712236e-02\n",
      "  1.42870959e-01  1.62506305e-01  6.40168382e-01  8.73096514e-03\n",
      "  7.00415728e-01 -1.50767081e-02  1.42043246e-01 -3.06323033e-02\n",
      "  1.91268304e-03  7.87189832e-03  2.12973417e-01  7.17695889e-02\n",
      " -3.00823552e-02 -2.19065877e-02 -4.65462990e-02  1.11240507e-01\n",
      " -9.41490070e-02  3.37880355e-01  6.39588056e-02  6.76768599e-02\n",
      "  7.34584178e-03  2.71419348e-01 -8.42240423e-02 -6.92307112e-02\n",
      " -6.10926020e-02 -5.41468931e-02  1.52285999e-01  2.04855926e-01\n",
      " -2.49912624e-02  1.89146786e-01 -2.57340494e-02  5.00897014e-01\n",
      "  9.67267630e-03  1.74895563e-01  1.96387886e-02  3.11949672e-01\n",
      "  5.10326293e-01  2.67068271e-02 -7.61761788e-02  2.51307157e-01\n",
      "  3.40477543e-01 -1.46950135e-02 -8.34648630e-03 -1.64277543e-01\n",
      " -1.05474018e-01  4.65124921e-01  6.10272224e-02  1.64755017e-02\n",
      " -6.44774657e-02 -1.25578350e-01  2.85206463e-01 -2.93666904e-02\n",
      "  3.12530108e-01 -1.08913357e-02  8.10640017e-01  9.47561347e-02\n",
      " -3.24838690e-02  7.09083189e-02  3.67413487e-01  1.77855340e-02\n",
      "  3.81636389e-01  4.58904693e-01  2.49898928e-01 -9.66484805e-02\n",
      "  6.55110901e-02  5.78773627e-02 -3.46379696e-02  1.65482419e-01\n",
      " -8.10547361e-02 -6.68313086e-02  1.11465255e-01  3.47756624e-01\n",
      "  4.97882829e-02  1.06882207e-01  1.36413224e-01  5.64897078e-02\n",
      "  3.76668894e-01  7.91696361e-02  4.67471802e-02  8.12998473e-02\n",
      "  5.24277765e-01 -9.96398799e-02  2.91513080e-01  6.39289210e-02\n",
      " -6.29417507e-02 -1.68552663e-01  5.92442450e-02  1.60471951e-01\n",
      "  5.74504517e-02  1.48184762e-01 -9.00971238e-02 -1.71920988e-01\n",
      " -1.53432154e-01  4.00507668e-02  2.43610466e-02  1.32115435e-01\n",
      " -2.69226153e-02  5.07811139e-01  5.13543570e-02  3.70363191e-01\n",
      "  2.39381015e-01  7.78988377e-02  7.89514984e-02 -2.46240720e-02\n",
      " -1.87785554e-01  8.06413109e-02  3.86152945e-02  5.04657864e-01\n",
      "  2.55071372e-01 -6.70787210e-03 -2.09334636e-01  2.66770202e-01\n",
      "  2.60110999e-01  5.80286091e-02  2.70570523e-02 -2.24124112e-02\n",
      " -1.21873716e-01  7.87778699e-02  4.68402918e-01  3.10511251e-01\n",
      "  5.89188831e-02  4.76931244e-02 -4.42891166e-02  7.81105842e-02\n",
      "  5.64147939e-02  8.89255942e-02  1.55927093e-02  2.92264803e-02\n",
      "  1.61211485e-01  5.43130456e-01  1.14243369e-01 -4.04805708e-02\n",
      "  7.53745855e-02 -3.92932364e-02 -2.04744114e-01  4.49257421e-02\n",
      "  6.34924441e-01  1.91492263e-01 -2.49208977e-02  5.31387033e-03\n",
      "  4.64003003e-01 -4.22007103e-02 -9.16244551e-02  3.65509378e-01\n",
      " -5.24714801e-02  1.49505032e-01  1.12344435e-02 -9.40951949e-02\n",
      "  3.15070886e-01  1.56192063e-01  2.55867019e-01 -1.35745103e-01\n",
      "  2.31696231e-01  9.37729373e-01 -1.69089386e-02  3.77771377e-02\n",
      " -1.77634479e-02 -1.60652125e-01 -2.36646076e-02  7.95707593e-03\n",
      "  3.19434781e-01  1.52423322e-01  1.27337117e-01  1.29371455e-01\n",
      " -2.01669864e-02  4.24271708e-02  3.68717688e-02  1.95526847e-01\n",
      "  4.71526110e-01  4.19619618e-01 -1.00331180e-01 -6.27990675e-02\n",
      "  4.12461094e-03  3.81688056e-01  4.66677526e-01  2.23387223e-01\n",
      "  2.64541714e-01  1.65568043e-02 -4.12854400e-02 -4.68633045e-02\n",
      "  2.27458637e-01  2.98317905e-01  7.38407761e-02  2.69621675e-01\n",
      "  7.74689879e-02  2.52745785e-01  1.62100988e-01  1.31544486e-01\n",
      "  1.09118016e-01  7.41533106e-02 -1.30751380e-01  4.31797258e-01\n",
      "  4.71882813e-01  3.20167192e-02 -1.75228179e-01  5.61387601e-01\n",
      "  5.93015641e-01 -3.08211487e-02 -4.86796163e-02  3.15240453e-01\n",
      "  4.33918438e-02  1.58215859e-01  9.52287772e-03  3.48987673e-01\n",
      " -1.27581120e-01  2.25333530e-01 -5.80170233e-02  1.20220230e-01\n",
      " -1.68782949e-02 -2.46361222e-02  4.63993651e-01 -2.23832290e-02\n",
      " -1.92916069e-01  1.05162656e-01  8.33619202e-02 -3.60239935e-02\n",
      "  1.39529034e-02  5.85383221e-01  1.44289111e-01  5.97699994e-03\n",
      "  1.54539757e-02 -1.02301629e-01  1.94296810e-02  1.50903652e-01\n",
      "  2.28457019e-01  3.42792258e-01  1.51966057e-01  3.47147880e-02\n",
      "  7.76177937e-02 -7.63695483e-02  6.62613473e-01  3.25809489e-01\n",
      "  2.97101311e-02  5.68604054e-01  2.23121230e-01  3.85309496e-01\n",
      "  1.47723563e-02  5.14324405e-01  1.10621114e-02  6.83309588e-01\n",
      "  4.66637889e-03  1.97251448e-01 -1.44043580e-01  1.22713726e-01\n",
      "  2.84342376e-01 -2.99943586e-01  8.93934561e-02  2.72833489e-01\n",
      "  7.08114103e-02  1.32278078e-01  1.59458014e-01  2.40381066e-01\n",
      " -1.23897571e-01  1.60073584e-01  7.64120491e-02  1.90622456e-01\n",
      "  1.77220585e-01  3.33247947e-01 -1.35080081e-02 -7.63934682e-02\n",
      "  3.51811550e-01 -2.02596684e-01 -4.33065592e-03 -1.62974748e-01\n",
      "  4.77680654e-01  5.82914213e-01  6.58129651e-01 -1.19128626e-01\n",
      " -2.05653114e-02  3.30991546e-01 -2.18125050e-02  2.10396808e-02\n",
      "  3.22830264e-01  3.10121942e-02 -1.44607601e-01  1.52539519e-01\n",
      "  8.52100230e-01 -3.51551676e-02 -2.13611157e-01 -8.50911652e-02\n",
      " -4.68879964e-02  9.75327572e-01 -1.59138240e-02  8.35365033e-02\n",
      "  2.41363489e-02 -7.20780532e-02  2.93560657e-01  2.87032225e-01\n",
      " -1.29697561e-02  2.90580480e-02  4.42442942e-01 -1.53595898e-01\n",
      "  1.76059400e-01 -1.56935350e-01  3.96974480e-02  2.58716724e-02\n",
      " -6.23589900e-02  2.18350550e-01  5.40251604e-01  1.04541253e-01\n",
      " -5.48990588e-02  3.54662380e-01  7.99029148e-02  3.32451927e-01\n",
      "  1.26944476e-01  2.70800636e-01 -7.50824070e-02  8.69543585e-02\n",
      "  2.54166972e-02  2.67886081e-01  5.16624498e-01  2.47365196e-01]\n"
     ]
    }
   ],
   "source": [
    "y_pred = lnr.predict(X_test)\n",
    "print(y_pred)"
   ]
  },
  {
   "cell_type": "code",
   "execution_count": 168,
   "metadata": {},
   "outputs": [
    {
     "data": {
      "text/html": [
       "<div>\n",
       "<style scoped>\n",
       "    .dataframe tbody tr th:only-of-type {\n",
       "        vertical-align: middle;\n",
       "    }\n",
       "\n",
       "    .dataframe tbody tr th {\n",
       "        vertical-align: top;\n",
       "    }\n",
       "\n",
       "    .dataframe thead th {\n",
       "        text-align: right;\n",
       "    }\n",
       "</style>\n",
       "<table border=\"1\" class=\"dataframe\">\n",
       "  <thead>\n",
       "    <tr style=\"text-align: right;\">\n",
       "      <th></th>\n",
       "      <th>Actual</th>\n",
       "      <th>Predicted</th>\n",
       "    </tr>\n",
       "  </thead>\n",
       "  <tbody>\n",
       "    <tr>\n",
       "      <th>0</th>\n",
       "      <td>0.00</td>\n",
       "      <td>-0.033601</td>\n",
       "    </tr>\n",
       "    <tr>\n",
       "      <th>1</th>\n",
       "      <td>0.31</td>\n",
       "      <td>0.563685</td>\n",
       "    </tr>\n",
       "    <tr>\n",
       "      <th>2</th>\n",
       "      <td>0.00</td>\n",
       "      <td>-0.121932</td>\n",
       "    </tr>\n",
       "    <tr>\n",
       "      <th>3</th>\n",
       "      <td>0.00</td>\n",
       "      <td>-0.099165</td>\n",
       "    </tr>\n",
       "    <tr>\n",
       "      <th>4</th>\n",
       "      <td>0.00</td>\n",
       "      <td>-0.011013</td>\n",
       "    </tr>\n",
       "  </tbody>\n",
       "</table>\n",
       "</div>"
      ],
      "text/plain": [
       "   Actual  Predicted\n",
       "0    0.00  -0.033601\n",
       "1    0.31   0.563685\n",
       "2    0.00  -0.121932\n",
       "3    0.00  -0.099165\n",
       "4    0.00  -0.011013"
      ]
     },
     "execution_count": 168,
     "metadata": {},
     "output_type": "execute_result"
    }
   ],
   "source": [
    "df = pd.DataFrame({'Actual': Y_test, 'Predicted': y_pred})\n",
    "\n",
    "df.head()"
   ]
  },
  {
   "cell_type": "code",
   "execution_count": 169,
   "metadata": {},
   "outputs": [
    {
     "name": "stdout",
     "output_type": "stream",
     "text": [
      "Accuracy of the model = 0.3150895890070975\n",
      "Mean absolute error = 0.2\n",
      "Mean squared error = 0.19\n",
      "Median absolute error = 0.09\n",
      "Explain variance score = 0.28\n",
      "R2 score = 0.28\n"
     ]
    }
   ],
   "source": [
    "import scipy.stats as st\n",
    "import sklearn.metrics as sm\n",
    "print(\"Accuracy of the model =\",lnr.score(X_train, Y_train))\n",
    "print(\"Mean absolute error =\", round(sm.mean_absolute_error(Y_test, y_pred),2)) \n",
    "print(\"Mean squared error =\", round(sm.mean_squared_error(Y_test, y_pred), 2)) \n",
    "print(\"Median absolute error =\", round(sm.median_absolute_error(Y_test, y_pred), 2)) \n",
    "print(\"Explain variance score =\", round(sm.explained_variance_score(Y_test, y_pred), 2)) \n",
    "print(\"R2 score =\", round(sm.r2_score(Y_test, y_pred), 2))"
   ]
  },
  {
   "cell_type": "code",
   "execution_count": 170,
   "metadata": {},
   "outputs": [
    {
     "data": {
      "text/plain": [
       "Text(0.5, 1.0, 'Actual vs predicated')"
      ]
     },
     "execution_count": 170,
     "metadata": {},
     "output_type": "execute_result"
    },
    {
     "data": {
      "image/png": "[encoded data removed]",
      "text/plain": [
       "<Figure size 864x720 with 1 Axes>"
      ]
     },
     "metadata": {
      "needs_background": "dark"
     },
     "output_type": "display_data"
    }
   ],
   "source": [
    "import matplotlib.pyplot as plt\n",
    "%matplotlib inline\n",
    "plt.figure(figsize=(12,10)) \n",
    "plt.scatter(sc_y.inverse_transform(Y_test),sc_y.inverse_transform(y_pred))\n",
    "plt.plot(Y_test,y_pred,'ro')#actual data\n",
    "plt.xlabel('Actual')\n",
    "plt.ylabel('Predicted')\n",
    "plt.title('Actual vs predicated')"
   ]
  },
  {
   "cell_type": "code",
   "execution_count": null,
   "metadata": {},
   "outputs": [],
   "source": []
  }
 ],
 "metadata": {
  "kernelspec": {
   "display_name": "Python 3",
   "language": "python",
   "name": "python3"
  },
  "language_info": {
   "codemirror_mode": {
    "name": "ipython",
    "version": 3
   },
   "file_extension": ".py",
   "mimetype": "text/x-python",
   "name": "python",
   "nbconvert_exporter": "python",
   "pygments_lexer": "ipython3",
   "version": "3.8.5"
  }
 },
 "nbformat": 4,
 "nbformat_minor": 4
}
