{
 "cells": [
  {
   "cell_type": "markdown",
   "metadata": {},
   "source": [
    "# Ensemble learning models- Decision Tree regressor and Random Forest regrssor"
   ]
  },
  {
   "cell_type": "code",
   "execution_count": 1,
   "metadata": {},
   "outputs": [],
   "source": [
    "import numpy as np\n",
    "import matplotlib.pyplot as plt\n",
    "import pandas as pd"
   ]
  },
  {
   "cell_type": "code",
   "execution_count": 2,
   "metadata": {},
   "outputs": [],
   "source": [
    "data = pd.read_csv('austin_final.csv')"
   ]
  },
  {
   "cell_type": "code",
   "execution_count": 3,
   "metadata": {},
   "outputs": [],
   "source": [
    "data['PrecipitationSumInches'] = data['PrecipitationSumInches'].astype(int)"
   ]
  },
  {
   "cell_type": "code",
   "execution_count": 4,
   "metadata": {},
   "outputs": [
    {
     "name": "stdout",
     "output_type": "stream",
     "text": [
      "<class 'pandas.core.frame.DataFrame'>\n",
      "RangeIndex: 1319 entries, 0 to 1318\n",
      "Data columns (total 18 columns):\n",
      " #   Column                     Non-Null Count  Dtype  \n",
      "---  ------                     --------------  -----  \n",
      " 0   Unnamed: 0                 1319 non-null   int64  \n",
      " 1   TempHighF                  1319 non-null   int64  \n",
      " 2   TempAvgF                   1319 non-null   int64  \n",
      " 3   TempLowF                   1319 non-null   int64  \n",
      " 4   DewPointHighF              1319 non-null   float64\n",
      " 5   DewPointAvgF               1319 non-null   float64\n",
      " 6   DewPointLowF               1319 non-null   float64\n",
      " 7   HumidityHighPercent        1319 non-null   float64\n",
      " 8   HumidityAvgPercent         1319 non-null   float64\n",
      " 9   HumidityLowPercent         1319 non-null   float64\n",
      " 10  SeaLevelPressureAvgInches  1319 non-null   float64\n",
      " 11  VisibilityHighMiles        1319 non-null   float64\n",
      " 12  VisibilityAvgMiles         1319 non-null   float64\n",
      " 13  VisibilityLowMiles         1319 non-null   float64\n",
      " 14  WindHighMPH                1319 non-null   float64\n",
      " 15  WindAvgMPH                 1319 non-null   float64\n",
      " 16  WindGustMPH                1319 non-null   float64\n",
      " 17  PrecipitationSumInches     1319 non-null   int32  \n",
      "dtypes: float64(13), int32(1), int64(4)\n",
      "memory usage: 180.5 KB\n"
     ]
    }
   ],
   "source": [
    "data.info()"
   ]
  },
  {
   "cell_type": "code",
   "execution_count": 5,
   "metadata": {},
   "outputs": [],
   "source": [
    "import numpy as np\n",
    "import matplotlib.pyplot as plt\n",
    "from sklearn.metrics import f1_score\n",
    "from sklearn.model_selection import train_test_split\n",
    "\n",
    "#3 If require perform data preprocessing.\n",
    "rev_null=['TempHighF','TempAvgF','TempLowF','DewPointHighF','DewPointAvgF','HumidityHighPercent','HumidityAvgPercent','HumidityLowPercent','SeaLevelPressureAvgInches','VisibilityHighMiles','VisibilityAvgMiles','VisibilityLowMiles','WindHighMPH','WindAvgMPH','WindGustMPH','WindGustMPH']\n",
    "data[rev_null]=data[rev_null].replace({np.nan:data['TempHighF'].mean(),\n",
    "                                       np.nan:data['TempAvgF'].mean(),\n",
    "                                       np.nan:data['TempLowF'].mean(),\n",
    "                                       np.nan:data['DewPointHighF'].mean(),\n",
    "                                       np.nan:data['DewPointAvgF'].mean(),\n",
    "                                       np.nan:data['HumidityHighPercent'].mean(),\n",
    "                                       np.nan:data['HumidityAvgPercent'].mean(),\n",
    "                                       np.nan:data['HumidityLowPercent'].mean(),\n",
    "                                       np.nan:data['SeaLevelPressureAvgInches'].mean(),\n",
    "                                       np.nan:data['VisibilityHighMiles'].mean(),\n",
    "                                       np.nan:data['VisibilityAvgMiles'].mean(),\n",
    "                                       np.nan:data['VisibilityLowMiles'].mean(),\n",
    "                                       np.nan:data['WindHighMPH'].mean(),\n",
    "                                       np.nan:data['WindGustMPH'].mean(),\n",
    "                                       np.nan:data['PrecipitationSumInches'].mode()})"
   ]
  },
  {
   "cell_type": "code",
   "execution_count": 6,
   "metadata": {},
   "outputs": [],
   "source": [
    " #Split dataset into test and train (20:80).\n",
    "from sklearn.model_selection import train_test_split\n",
    "#array = data.values\n",
    "#X = array[:,0:14]\n",
    "#y = array[:,14]\n",
    "\n",
    "X=data.drop(['PrecipitationSumInches'],axis=1).values\n",
    "y=data['PrecipitationSumInches'].values\n",
    "X_train, X_validation, Y_train, Y_validation = train_test_split(X, y, test_size=0.20, random_state=1)"
   ]
  },
  {
   "cell_type": "markdown",
   "metadata": {},
   "source": [
    "# Voting"
   ]
  },
  {
   "cell_type": "code",
   "execution_count": 8,
   "metadata": {},
   "outputs": [
    {
     "name": "stdout",
     "output_type": "stream",
     "text": [
      "cart1 -161.519 (11.414)\n",
      "cart2 -152.596 (11.271)\n",
      "cart3 -142.378 (10.900)\n",
      "cart4 -140.086 (12.469)\n",
      "cart5 -137.788 (12.137)\n",
      "voting -136.377 (11.271)\n"
     ]
    },
    {
     "data": {
      "image/png": "[encoded data removed]",
      "text/plain": [
       "<Figure size 432x288 with 1 Axes>"
      ]
     },
     "metadata": {
      "needs_background": "light"
     },
     "output_type": "display_data"
    }
   ],
   "source": [
    "#for Regression\n",
    "from numpy import mean\n",
    "from numpy import std\n",
    "from sklearn.datasets import make_regression\n",
    "from sklearn.model_selection import cross_val_score\n",
    "from sklearn.model_selection import RepeatedKFold\n",
    "from sklearn.tree import DecisionTreeRegressor\n",
    "from sklearn.ensemble import VotingRegressor\n",
    "from matplotlib import pyplot\n",
    "\n",
    "# get the dataset\n",
    "def get_data():\n",
    "    X, y = make_regression(n_samples=1000, n_features=20, n_informative=15, noise=0.1, random_state=1)\n",
    "    return X, y\n",
    "\n",
    "# get a voting ensemble of models\n",
    "def get_voting():\n",
    "    # define the base models\n",
    "    models = list()\n",
    "    models.append(('cart1', DecisionTreeRegressor(max_depth=1)))\n",
    "    models.append(('cart2', DecisionTreeRegressor(max_depth=2)))\n",
    "    models.append(('cart3', DecisionTreeRegressor(max_depth=3)))\n",
    "    models.append(('cart4', DecisionTreeRegressor(max_depth=4)))\n",
    "    models.append(('cart5', DecisionTreeRegressor(max_depth=5)))\n",
    "    # define the voting ensemble\n",
    "    ensemble = VotingRegressor(estimators=models)\n",
    "    return ensemble\n",
    "\n",
    "# get a list of models to evaluate\n",
    "def get_models():\n",
    "    models = dict()\n",
    "    models['cart1'] = DecisionTreeRegressor(max_depth=1)\n",
    "    models['cart2'] = DecisionTreeRegressor(max_depth=2)\n",
    "    models['cart3'] = DecisionTreeRegressor(max_depth=3)\n",
    "    models['cart4'] = DecisionTreeRegressor(max_depth=4)\n",
    "    models['cart5'] = DecisionTreeRegressor(max_depth=5)\n",
    "    models['voting'] = get_voting()\n",
    "    return models\n",
    "\n",
    "# evaluate a give model using cross-validation\n",
    "def evaluate_model(model):\n",
    "    cv = RepeatedKFold(n_splits=10, n_repeats=3, random_state=1)\n",
    "    scores = cross_val_score(model, X, y, scoring='neg_mean_absolute_error', cv=cv, n_jobs=-1, error_score='raise')\n",
    "    return scores\n",
    "\n",
    "# define dataset\n",
    "X, y = get_data()\n",
    "# get the models to evaluate\n",
    "models = get_models()\n",
    "# evaluate the models and store results\n",
    "results, names = list(), list()\n",
    "for name, model in models.items():\n",
    "    scores = evaluate_model(model)\n",
    "    results.append(scores)\n",
    "    names.append(name)\n",
    "    print('%s %.3f (%.3f)' % (name, mean(scores), std(scores)))\n",
    "# plot model performance for comparison\n",
    "pyplot.boxplot(results, labels=names, showmeans=True)\n",
    "pyplot.show()"
   ]
  },
  {
   "cell_type": "markdown",
   "metadata": {},
   "source": [
    "# Bagging"
   ]
  },
  {
   "cell_type": "code",
   "execution_count": 9,
   "metadata": {},
   "outputs": [],
   "source": [
    "import pandas as pd\n",
    "import numpy as np\n",
    "import matplotlib.pyplot as plt\n",
    "from sklearn.metrics import f1_score\n",
    "from sklearn.model_selection import train_test_split"
   ]
  },
  {
   "cell_type": "code",
   "execution_count": 10,
   "metadata": {},
   "outputs": [],
   "source": [
    "X=data.drop(['PrecipitationSumInches'],axis=1).values\n",
    "y=data['PrecipitationSumInches'].values\n",
    "X_train, X_test, Y_train, Y_test = train_test_split(X, y, test_size = 0.2, random_state = 42)"
   ]
  },
  {
   "cell_type": "code",
   "execution_count": 11,
   "metadata": {},
   "outputs": [
    {
     "name": "stdout",
     "output_type": "stream",
     "text": [
      "Shape of X_train:  (1055, 17)\n",
      "Shape of X_test :  (264, 17)\n",
      "Shape of Y_train:  (1055,)\n",
      "Shape of Y_test :  (264,)\n"
     ]
    }
   ],
   "source": [
    "print('Shape of X_train: ',X_train.shape)\n",
    "print('Shape of X_test : ',X_test.shape)\n",
    "print('Shape of Y_train: ',Y_train.shape)\n",
    "print('Shape of Y_test : ',Y_test.shape)"
   ]
  },
  {
   "cell_type": "code",
   "execution_count": 12,
   "metadata": {},
   "outputs": [],
   "source": [
    "# Building Decision Tree\n",
    "from sklearn.tree import DecisionTreeClassifier\n",
    "dt = DecisionTreeClassifier(criterion = 'entropy', random_state = 42)\n",
    "dt.fit(X_train, Y_train)\n",
    "dt_pred_train = dt.predict(X_train)"
   ]
  },
  {
   "cell_type": "code",
   "execution_count": 13,
   "metadata": {},
   "outputs": [
    {
     "name": "stdout",
     "output_type": "stream",
     "text": [
      "Training Set Evaluation F1-Score:  1.0\n"
     ]
    }
   ],
   "source": [
    "dt_pred_train = dt.predict(X_train)\n",
    "print('Training Set Evaluation F1-Score: ',f1_score(Y_train,dt_pred_train,average='micro',pos_label=1))"
   ]
  },
  {
   "cell_type": "code",
   "execution_count": 14,
   "metadata": {},
   "outputs": [
    {
     "name": "stdout",
     "output_type": "stream",
     "text": [
      "Testing Set Evaluation F1-Score:  0.97\n"
     ]
    }
   ],
   "source": [
    "# Evaluating on Test set\n",
    "dt_pred_test = dt.predict(X_test)\n",
    "print('Testing Set Evaluation F1-Score: ',np.round(f1_score(Y_test,dt_pred_test,average='micro',pos_label=1),3))"
   ]
  },
  {
   "cell_type": "code",
   "execution_count": 15,
   "metadata": {},
   "outputs": [
    {
     "name": "stdout",
     "output_type": "stream",
     "text": [
      "Training Set Evaluation F1-Score:  1.0\n"
     ]
    }
   ],
   "source": [
    "#random forest\n",
    "from sklearn.ensemble import RandomForestClassifier\n",
    "rfc = RandomForestClassifier(criterion = 'entropy', random_state = 42)\n",
    "rfc.fit(X_train, Y_train)\n",
    "\n",
    "# Evaluating on Training set\n",
    "rfc_pred_train = rfc.predict(X_train)\n",
    "print('Training Set Evaluation F1-Score: ',f1_score(Y_train,rfc_pred_train,average='micro',pos_label=1))"
   ]
  },
  {
   "cell_type": "code",
   "execution_count": 16,
   "metadata": {},
   "outputs": [
    {
     "name": "stdout",
     "output_type": "stream",
     "text": [
      "Testing Set Evaluation F1-Score:  0.981\n"
     ]
    }
   ],
   "source": [
    "# Evaluating on Test set\n",
    "rfc_pred_test = rfc.predict(X_test)\n",
    "print('Testing Set Evaluation F1-Score: ',np.round(f1_score(Y_test,rfc_pred_test,average='micro',pos_label=1),3))"
   ]
  },
  {
   "cell_type": "code",
   "execution_count": 17,
   "metadata": {},
   "outputs": [
    {
     "data": {
      "text/plain": [
       "<matplotlib.legend.Legend at 0x2a1072b2fa0>"
      ]
     },
     "execution_count": 17,
     "metadata": {},
     "output_type": "execute_result"
    },
    {
     "data": {
      "image/png": "[encoded data removed]",
      "text/plain": [
       "<Figure size 1296x576 with 1 Axes>"
      ]
     },
     "metadata": {
      "needs_background": "light"
     },
     "output_type": "display_data"
    }
   ],
   "source": [
    "feature_importance=pd.DataFrame({\n",
    "    'rfc':rfc.feature_importances_,\n",
    "    'dt':dt.feature_importances_\n",
    "},index=data.drop(columns=['PrecipitationSumInches']).columns)\n",
    "feature_importance.sort_values(by='rfc',ascending=True,inplace=True)\n",
    "\n",
    "index = np.arange(len(feature_importance))\n",
    "fig, ax = plt.subplots(figsize=(18,8))\n",
    "rfc_feature=ax.barh(index,feature_importance['rfc'],0.4,color='purple',label='Random Forest')\n",
    "dt_feature=ax.barh(index+0.4,feature_importance['dt'],0.4,color='lightgreen',label='Decision Tree')\n",
    "ax.set(yticks=index+0.4,yticklabels=feature_importance.index)\n",
    "\n",
    "ax.legend()"
   ]
  },
  {
   "cell_type": "markdown",
   "metadata": {},
   "source": [
    "# Boosting"
   ]
  },
  {
   "cell_type": "code",
   "execution_count": 19,
   "metadata": {},
   "outputs": [
    {
     "name": "stderr",
     "output_type": "stream",
     "text": [
      "C:\\Users\\DELL\\anaconda3\\lib\\site-packages\\xgboost\\sklearn.py:888: UserWarning: The use of label encoder in XGBClassifier is deprecated and will be removed in a future release. To remove this warning, do the following: 1) Pass option use_label_encoder=False when constructing XGBClassifier object; and 2) Encode your labels (y) as integers starting with 0, i.e. 0, 1, 2, ..., [num_class - 1].\n",
      "  warnings.warn(label_encoder_deprecation_msg, UserWarning)\n"
     ]
    },
    {
     "name": "stdout",
     "output_type": "stream",
     "text": [
      "[13:01:27] WARNING: C:/Users/Administrator/workspace/xgboost-win64_release_1.3.0/src/learner.cc:1061: Starting in XGBoost 1.3.0, the default evaluation metric used with the objective 'multi:softprob' was changed from 'merror' to 'mlogloss'. Explicitly set eval_metric if you'd like to restore the old behavior.\n"
     ]
    },
    {
     "data": {
      "text/plain": [
       "0.9734848484848485"
      ]
     },
     "execution_count": 19,
     "metadata": {},
     "output_type": "execute_result"
    }
   ],
   "source": [
    "import xgboost as xgb\n",
    "model=xgb.XGBClassifier(learning_rate=0.01,random_state=1)\n",
    "model.fit(X_train, Y_train)\n",
    "model.score(X_test,Y_test)"
   ]
  },
  {
   "cell_type": "code",
   "execution_count": null,
   "metadata": {},
   "outputs": [],
   "source": []
  }
 ],
 "metadata": {
  "kernelspec": {
   "display_name": "Python 3",
   "language": "python",
   "name": "python3"
  },
  "language_info": {
   "codemirror_mode": {
    "name": "ipython",
    "version": 3
   },
   "file_extension": ".py",
   "mimetype": "text/x-python",
   "name": "python",
   "nbconvert_exporter": "python",
   "pygments_lexer": "ipython3",
   "version": "3.8.5"
  }
 },
 "nbformat": 4,
 "nbformat_minor": 4
}
